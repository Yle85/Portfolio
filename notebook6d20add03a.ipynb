{
 "cells": [
  {
   "cell_type": "code",
   "execution_count": 1,
   "id": "1cf7accb",
   "metadata": {
    "_cell_guid": "b1076dfc-b9ad-4769-8c92-a6c4dae69d19",
    "_uuid": "8f2839f25d086af736a60e9eeb907d3b93b6e0e5",
    "execution": {
     "iopub.execute_input": "2023-01-23T22:07:44.597898Z",
     "iopub.status.busy": "2023-01-23T22:07:44.596753Z",
     "iopub.status.idle": "2023-01-23T22:07:45.857669Z",
     "shell.execute_reply": "2023-01-23T22:07:45.856217Z"
    },
    "papermill": {
     "duration": 1.271162,
     "end_time": "2023-01-23T22:07:45.860940",
     "exception": false,
     "start_time": "2023-01-23T22:07:44.589778",
     "status": "completed"
    },
    "tags": []
   },
   "outputs": [
    {
     "name": "stdout",
     "output_type": "stream",
     "text": [
      "/kaggle/input/pizza-sales/data_dictionary.csv\n",
      "/kaggle/input/pizza-sales/pizza_sales/pizza_types.csv\n",
      "/kaggle/input/pizza-sales/pizza_sales/orders.csv\n",
      "/kaggle/input/pizza-sales/pizza_sales/order_details.csv\n",
      "/kaggle/input/pizza-sales/pizza_sales/pizzas.csv\n"
     ]
    }
   ],
   "source": [
    "# This Python 3 environment comes with many helpful analytics libraries installed\n",
    "# It is defined by the kaggle/python Docker image: https://github.com/kaggle/docker-python\n",
    "# For example, here's several helpful packages to load\n",
    "\n",
    "import numpy as np # linear algebra\n",
    "import pandas as pd # data processing, CSV file I/O (e.g. pd.read_csv)\n",
    "import matplotlib.pyplot as plt \n",
    "import seaborn as sns \n",
    "# Input data files are available in the read-only \"../input/\" directory\n",
    "# For example, running this (by clicking run or pressing Shift+Enter) will list all files under the input directory\n",
    "\n",
    "import os\n",
    "for dirname, _, filenames in os.walk('/kaggle/input'):\n",
    "    for filename in filenames:\n",
    "        print(os.path.join(dirname, filename))\n",
    "\n",
    "# You can write up to 20GB to the current directory (/kaggle/working/) that gets preserved as output when you create a version using \"Save & Run All\" \n",
    "# You can also write temporary files to /kaggle/temp/, but they won't be saved outside of the current session"
   ]
  },
  {
   "cell_type": "markdown",
   "id": "2396ad29",
   "metadata": {
    "papermill": {
     "duration": 0.003235,
     "end_time": "2023-01-23T22:07:45.868163",
     "exception": false,
     "start_time": "2023-01-23T22:07:45.864928",
     "status": "completed"
    },
    "tags": []
   },
   "source": [
    "LOAD DATA"
   ]
  },
  {
   "cell_type": "code",
   "execution_count": 2,
   "id": "863fbc82",
   "metadata": {
    "execution": {
     "iopub.execute_input": "2023-01-23T22:07:45.877521Z",
     "iopub.status.busy": "2023-01-23T22:07:45.877090Z",
     "iopub.status.idle": "2023-01-23T22:07:45.945782Z",
     "shell.execute_reply": "2023-01-23T22:07:45.944488Z"
    },
    "papermill": {
     "duration": 0.077021,
     "end_time": "2023-01-23T22:07:45.948823",
     "exception": false,
     "start_time": "2023-01-23T22:07:45.871802",
     "status": "completed"
    },
    "tags": []
   },
   "outputs": [],
   "source": [
    "#Load the Data\n",
    "# Path of the file to read\n",
    "pizza_filepath = \"/kaggle/input/pizza-sales/pizza_sales/order_details.csv\"\n",
    "pizza_data = pd.read_csv(pizza_filepath)\n"
   ]
  },
  {
   "cell_type": "markdown",
   "id": "bedf26a0",
   "metadata": {
    "papermill": {
     "duration": 0.003293,
     "end_time": "2023-01-23T22:07:45.956172",
     "exception": false,
     "start_time": "2023-01-23T22:07:45.952879",
     "status": "completed"
    },
    "tags": []
   },
   "source": [
    "TYPE OF DATA"
   ]
  },
  {
   "cell_type": "code",
   "execution_count": 3,
   "id": "594e5219",
   "metadata": {
    "execution": {
     "iopub.execute_input": "2023-01-23T22:07:45.966192Z",
     "iopub.status.busy": "2023-01-23T22:07:45.964867Z",
     "iopub.status.idle": "2023-01-23T22:07:46.002197Z",
     "shell.execute_reply": "2023-01-23T22:07:46.000820Z"
    },
    "papermill": {
     "duration": 0.045026,
     "end_time": "2023-01-23T22:07:46.004776",
     "exception": false,
     "start_time": "2023-01-23T22:07:45.959750",
     "status": "completed"
    },
    "tags": []
   },
   "outputs": [
    {
     "name": "stdout",
     "output_type": "stream",
     "text": [
      "<class 'pandas.core.frame.DataFrame'>\n",
      "RangeIndex: 48620 entries, 0 to 48619\n",
      "Data columns (total 4 columns):\n",
      " #   Column            Non-Null Count  Dtype \n",
      "---  ------            --------------  ----- \n",
      " 0   order_details_id  48620 non-null  int64 \n",
      " 1   order_id          48620 non-null  int64 \n",
      " 2   pizza_id          48620 non-null  object\n",
      " 3   quantity          48620 non-null  int64 \n",
      "dtypes: int64(3), object(1)\n",
      "memory usage: 1.5+ MB\n"
     ]
    }
   ],
   "source": [
    "pizza_data.info()"
   ]
  },
  {
   "cell_type": "code",
   "execution_count": 4,
   "id": "e12f150a",
   "metadata": {
    "execution": {
     "iopub.execute_input": "2023-01-23T22:07:46.014462Z",
     "iopub.status.busy": "2023-01-23T22:07:46.014024Z",
     "iopub.status.idle": "2023-01-23T22:07:46.025097Z",
     "shell.execute_reply": "2023-01-23T22:07:46.024062Z"
    },
    "papermill": {
     "duration": 0.018991,
     "end_time": "2023-01-23T22:07:46.027546",
     "exception": false,
     "start_time": "2023-01-23T22:07:46.008555",
     "status": "completed"
    },
    "tags": []
   },
   "outputs": [
    {
     "data": {
      "text/plain": [
       "order_details_id     int64\n",
       "order_id             int64\n",
       "pizza_id            object\n",
       "quantity             int64\n",
       "dtype: object"
      ]
     },
     "execution_count": 4,
     "metadata": {},
     "output_type": "execute_result"
    }
   ],
   "source": [
    "pizza_data.dtypes"
   ]
  },
  {
   "cell_type": "code",
   "execution_count": 5,
   "id": "2c062073",
   "metadata": {
    "execution": {
     "iopub.execute_input": "2023-01-23T22:07:46.037606Z",
     "iopub.status.busy": "2023-01-23T22:07:46.037132Z",
     "iopub.status.idle": "2023-01-23T22:07:46.053936Z",
     "shell.execute_reply": "2023-01-23T22:07:46.052581Z"
    },
    "papermill": {
     "duration": 0.025354,
     "end_time": "2023-01-23T22:07:46.057137",
     "exception": false,
     "start_time": "2023-01-23T22:07:46.031783",
     "status": "completed"
    },
    "tags": []
   },
   "outputs": [
    {
     "data": {
      "text/html": [
       "<div>\n",
       "<style scoped>\n",
       "    .dataframe tbody tr th:only-of-type {\n",
       "        vertical-align: middle;\n",
       "    }\n",
       "\n",
       "    .dataframe tbody tr th {\n",
       "        vertical-align: top;\n",
       "    }\n",
       "\n",
       "    .dataframe thead th {\n",
       "        text-align: right;\n",
       "    }\n",
       "</style>\n",
       "<table border=\"1\" class=\"dataframe\">\n",
       "  <thead>\n",
       "    <tr style=\"text-align: right;\">\n",
       "      <th></th>\n",
       "      <th>order_details_id</th>\n",
       "      <th>order_id</th>\n",
       "      <th>pizza_id</th>\n",
       "      <th>quantity</th>\n",
       "    </tr>\n",
       "  </thead>\n",
       "  <tbody>\n",
       "    <tr>\n",
       "      <th>0</th>\n",
       "      <td>1</td>\n",
       "      <td>1</td>\n",
       "      <td>hawaiian_m</td>\n",
       "      <td>1</td>\n",
       "    </tr>\n",
       "    <tr>\n",
       "      <th>1</th>\n",
       "      <td>2</td>\n",
       "      <td>2</td>\n",
       "      <td>classic_dlx_m</td>\n",
       "      <td>1</td>\n",
       "    </tr>\n",
       "    <tr>\n",
       "      <th>2</th>\n",
       "      <td>3</td>\n",
       "      <td>2</td>\n",
       "      <td>five_cheese_l</td>\n",
       "      <td>1</td>\n",
       "    </tr>\n",
       "    <tr>\n",
       "      <th>3</th>\n",
       "      <td>4</td>\n",
       "      <td>2</td>\n",
       "      <td>ital_supr_l</td>\n",
       "      <td>1</td>\n",
       "    </tr>\n",
       "    <tr>\n",
       "      <th>4</th>\n",
       "      <td>5</td>\n",
       "      <td>2</td>\n",
       "      <td>mexicana_m</td>\n",
       "      <td>1</td>\n",
       "    </tr>\n",
       "  </tbody>\n",
       "</table>\n",
       "</div>"
      ],
      "text/plain": [
       "   order_details_id  order_id       pizza_id  quantity\n",
       "0                 1         1     hawaiian_m         1\n",
       "1                 2         2  classic_dlx_m         1\n",
       "2                 3         2  five_cheese_l         1\n",
       "3                 4         2    ital_supr_l         1\n",
       "4                 5         2     mexicana_m         1"
      ]
     },
     "execution_count": 5,
     "metadata": {},
     "output_type": "execute_result"
    }
   ],
   "source": [
    "pizza_data.head()"
   ]
  },
  {
   "cell_type": "markdown",
   "id": "b8c2f53b",
   "metadata": {
    "papermill": {
     "duration": 0.003585,
     "end_time": "2023-01-23T22:07:46.064838",
     "exception": false,
     "start_time": "2023-01-23T22:07:46.061253",
     "status": "completed"
    },
    "tags": []
   },
   "source": [
    "STATISTIC VISUALIZATION"
   ]
  },
  {
   "cell_type": "code",
   "execution_count": 6,
   "id": "40fe639f",
   "metadata": {
    "execution": {
     "iopub.execute_input": "2023-01-23T22:07:46.074756Z",
     "iopub.status.busy": "2023-01-23T22:07:46.074304Z",
     "iopub.status.idle": "2023-01-23T22:07:46.344564Z",
     "shell.execute_reply": "2023-01-23T22:07:46.342944Z"
    },
    "papermill": {
     "duration": 0.279118,
     "end_time": "2023-01-23T22:07:46.348144",
     "exception": false,
     "start_time": "2023-01-23T22:07:46.069026",
     "status": "completed"
    },
    "tags": []
   },
   "outputs": [
    {
     "data": {
      "image/png": "[encoded data removed]",
      "text/plain": [
       "<Figure size 432x288 with 1 Axes>"
      ]
     },
     "metadata": {
      "needs_background": "light"
     },
     "output_type": "display_data"
    }
   ],
   "source": [
    "x= range(50)\n",
    "y = range(50) + np.random.randint(0,30,50)\n",
    "plt.scatter(x, y, c=y, cmap='Spectral')\n",
    "plt.rcParams.update({'figure.figsize':(10,8), 'figure.dpi':100})\n",
    "plt.title('Pizza by price')\n",
    "plt.xlabel('size')\n",
    "plt.ylabel('price')\n",
    "plt.show()"
   ]
  },
  {
   "cell_type": "code",
   "execution_count": 7,
   "id": "44da0440",
   "metadata": {
    "execution": {
     "iopub.execute_input": "2023-01-23T22:07:46.360235Z",
     "iopub.status.busy": "2023-01-23T22:07:46.359217Z",
     "iopub.status.idle": "2023-01-23T22:07:46.643755Z",
     "shell.execute_reply": "2023-01-23T22:07:46.642917Z"
    },
    "papermill": {
     "duration": 0.293428,
     "end_time": "2023-01-23T22:07:46.645983",
     "exception": false,
     "start_time": "2023-01-23T22:07:46.352555",
     "status": "completed"
    },
    "tags": []
   },
   "outputs": [
    {
     "data": {
      "image/png": "[encoded data removed]",
      "text/plain": [
       "<Figure size 640x480 with 1 Axes>"
      ]
     },
     "metadata": {},
     "output_type": "display_data"
    }
   ],
   "source": [
    "# Pizza flavors\n",
    "sapore = pizza_data['pizza_id'].value_counts() \n",
    "\n",
    "plt.figure(num=None, figsize=(8, 6), dpi=80, facecolor='w', edgecolor='k')\n",
    "sapore[:10].plot.bar()\n",
    "plt.title('10 most popular pizzas')\n",
    "plt.ylabel('Quantity')      \n",
    "plt.show();"
   ]
  },
  {
   "cell_type": "code",
   "execution_count": 8,
   "id": "48173c1f",
   "metadata": {
    "execution": {
     "iopub.execute_input": "2023-01-23T22:07:46.657930Z",
     "iopub.status.busy": "2023-01-23T22:07:46.657193Z",
     "iopub.status.idle": "2023-01-23T22:07:46.664100Z",
     "shell.execute_reply": "2023-01-23T22:07:46.662906Z"
    },
    "papermill": {
     "duration": 0.016003,
     "end_time": "2023-01-23T22:07:46.666847",
     "exception": false,
     "start_time": "2023-01-23T22:07:46.650844",
     "status": "completed"
    },
    "tags": []
   },
   "outputs": [
    {
     "name": "stdout",
     "output_type": "stream",
     "text": [
      "<bound method NDFrame.head of big_meat_s        1811\n",
      "thai_ckn_l        1365\n",
      "five_cheese_l     1359\n",
      "four_cheese_l     1273\n",
      "classic_dlx_m     1159\n",
      "                  ... \n",
      "mexicana_s         160\n",
      "calabrese_s         99\n",
      "ckn_alfredo_s       96\n",
      "green_garden_l      94\n",
      "the_greek_xxl       28\n",
      "Name: pizza_id, Length: 91, dtype: int64>\n"
     ]
    }
   ],
   "source": [
    "print(sapore.head)"
   ]
  }
 ],
 "metadata": {
  "kernelspec": {
   "display_name": "Python 3",
   "language": "python",
   "name": "python3"
  },
  "language_info": {
   "codemirror_mode": {
    "name": "ipython",
    "version": 3
   },
   "file_extension": ".py",
   "mimetype": "text/x-python",
   "name": "python",
   "nbconvert_exporter": "python",
   "pygments_lexer": "ipython3",
   "version": "3.7.12"
  },
  "papermill": {
   "default_parameters": {},
   "duration": 12.917085,
   "end_time": "2023-01-23T22:07:47.494531",
   "environment_variables": {},
   "exception": null,
   "input_path": "__notebook__.ipynb",
   "output_path": "__notebook__.ipynb",
   "parameters": {},
   "start_time": "2023-01-23T22:07:34.577446",
   "version": "2.3.4"
  }
 },
 "nbformat": 4,
 "nbformat_minor": 5
}
